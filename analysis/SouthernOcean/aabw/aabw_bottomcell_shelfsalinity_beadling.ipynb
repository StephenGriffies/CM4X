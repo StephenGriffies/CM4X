{
 "cells": [
  {
   "cell_type": "code",
   "execution_count": null,
   "id": "c5046f7c-1423-4f95-8ccd-a3f279b7d940",
   "metadata": {
    "tags": []
   },
   "outputs": [],
   "source": [
    "%matplotlib inline\n",
    "%config InlineBackend.figure_format = 'retina'\n",
    "\n",
    "import xarray as xr\n",
    "import matplotlib.pyplot as plt\n",
    "import cmocean\n",
    "import cartopy.crs as ccrs\n",
    "import numpy as np\n",
    "import xgcm\n",
    "from xgcm import Grid\n",
    "import momlevel as ml\n",
    "import pandas as pd"
   ]
  },
  {
   "cell_type": "markdown",
   "id": "16d18d62-ef78-4acb-a4dc-911bb7f0d320",
   "metadata": {},
   "source": [
    "## Load in pre-computed time series"
   ]
  },
  {
   "cell_type": "markdown",
   "id": "56de8842-a102-484d-b45f-3d085eea4ce5",
   "metadata": {},
   "source": [
    "### CM4p25 bottom salinity"
   ]
  },
  {
   "cell_type": "code",
   "execution_count": null,
   "id": "5dbc3f48-99e1-4751-b38e-e83471e31c15",
   "metadata": {
    "tags": []
   },
   "outputs": [],
   "source": [
    "## p25 configuration, Odiv-230+Odiv-306 is the combined piControl\n",
    "# ----------------------\n",
    "## piControl Year 1 ---> 360 (use as years 1-->100 and then Odiv-230 below for 101 --> 360).\n",
    "salt_shelf_p25_control_1 = xr.open_dataset('/work/jet/data/interim/CM4_piControl_c192_OM4p25_v7_0001to0350_sab_onshlf.nc').bottom_sa.sel(time=slice('0001-07-02','0100-07-02'))\n",
    "## Arctic bug fix at year 101:\n",
    "salt_shelf_p25_control_2 = xr.open_dataset('/work/jet/data/interim/CM4_piControl_c192_OM4p25_v8_0101to0360_sab_onshlf.nc').bottom_sa.sel(time=slice('0101-07-02','0350-07-02'))\n",
    "## control extended ..\n",
    "salt_shelf_p25_361_975 = xr.open_dataset('/work/jet/data/interim/CM4_piControl_c192_OM4p25_v8_0361to1055_sab_onshlf.nc').bottom_sa\n",
    "\n",
    "## historical\n",
    "salt_shelf_p25_hist = xr.open_dataset('/work/jet/data/interim/CM4_historical_c192_OM4p25_1850to2009_sab_onshlf.nc').bottom_sa\n",
    "\n",
    "## ssp585\n",
    "salt_shelf_p25_ssp585 = xr.open_dataset('/work/jet/data/interim/CM4_ssp585_c192_OM4p25_2010to2099_sab_onshlf.nc').bottom_sa"
   ]
  },
  {
   "cell_type": "code",
   "execution_count": null,
   "id": "5fa26136-f918-4e4e-bb8c-ccf99898e529",
   "metadata": {
    "tags": []
   },
   "outputs": [],
   "source": [
    "salt_shelf_p125_control_1 = xr.open_dataset('/work/jet/data/interim/CM4_piControl_c192_OM4p125_v7_0001to0350_sab_onshlf.nc').bottom_sa"
   ]
  },
  {
   "cell_type": "markdown",
   "id": "2638af4e-4b6c-4c2d-a6ad-60d7631560b1",
   "metadata": {},
   "source": [
    "### CM4p125 bottom salinity"
   ]
  },
  {
   "cell_type": "code",
   "execution_count": null,
   "id": "8ab347f2-313c-42aa-8491-08cd844981ba",
   "metadata": {
    "tags": []
   },
   "outputs": [],
   "source": [
    "## p125 configuration\n",
    "# CM4_piControl_c192_OM4p125_v7 --- control 1, for years 1-100\n",
    "salt_shelf_p125_control_1 = xr.open_dataset('/work/jet/data/interim/CM4_piControl_c192_OM4p125_v7_0001to0350_sab_onshlf.nc').bottom_sa.sel(time=slice('0001-07-02','0100-07-02'))\n",
    "# CM4_piControl_c192_OM4p125_v8 --- control 2, for years 101 - 360\n",
    "salt_shelf_p125_control_2 = xr.open_dataset('/work/jet/data/interim/CM4_piControl_c192_OM4p125_v8_0101to0370_sab_onshlf.nc').bottom_sa.sel(time=slice('0101-07-02','0350-07-02'))\n",
    "\n",
    "# CM4_historical_c192_OM4p125\n",
    "salt_shelf_p125_hist = xr.open_dataset('/work/jet/data/interim/CM4_historical_c192_OM4p125_1850to2014_sab_onshlf.nc').bottom_sa\n",
    "\n",
    "# CM4_ssp585_c192_OM4p125\n",
    "salt_shelf_p125_ssp585 = xr.open_dataset('/work/jet/data/interim/CM4_ssp585_c192_OM4p125_2015to2099_sab_onshlf.nc').bottom_sa"
   ]
  },
  {
   "cell_type": "markdown",
   "id": "1111e36e-64ce-44e9-b14d-f783dbcd7fc0",
   "metadata": {},
   "source": [
    "### CM4p25 overturning"
   ]
  },
  {
   "cell_type": "code",
   "execution_count": null,
   "id": "b01cbebc-2762-46e2-923d-fe4031bf69fd",
   "metadata": {},
   "outputs": [],
   "source": [
    "## p25 configuration, Odiv-230+Odiv-306 is the combined piControl\n",
    "# ----------------------\n",
    "## piControl Year 1 ---> 360 (use as years 1-->100 and then Odiv-230 below for 101 --> 360).\n",
    "moc_p25_control_1 = xr.open_dataset('/work/jet/data/interim/CM4_piControl_c192_OM4p25_v7_global_0001to0350_moc_rho2_online_hires.nc').sel(time=slice('0001-07-02','0100-07-02'))\n",
    "## Arctic bug fix at year 101:\n",
    "moc_p25_control_2 = xr.open_dataset('/work/jet/data/interim/CM4_piControl_c192_OM4p25_v8_global_0101to0360_moc_rho2_online_hires.nc').sel(time=slice('0101-07-02','0350-07-02'))\n",
    "# CM4_historical_c192_OM4p25\n",
    "moc_p25_hist = xr.open_dataset('/work/jet/data/interim/CM4_historical_c192_OM4p25_global_1850to2009_moc_rho2_online_hires.nc')\n",
    "# CM4_ssp585_c192_OM4p25\n",
    "moc_p25_ssp585 = xr.open_dataset('/work/jet/data/interim/CM4_ssp585_c192_OM4p25_global_2010to2099_moc_rho2_online_hires.nc')"
   ]
  },
  {
   "cell_type": "code",
   "execution_count": null,
   "id": "c8aa84ae-0d98-4133-8d89-7575c8c1bb47",
   "metadata": {},
   "outputs": [],
   "source": [
    "## p125\n",
    "moc_p125_control_1 = xr.open_dataset('/work/jet/data/interim/CM4_piControl_c192_OM4p125_v7_global_0001to0350_moc_rho2_online_hires.nc').sel(time=slice('0001-07-02','0100-07-02'))\n",
    "moc_p125_control_2 = xr.open_dataset('/work/jet/data/interim/CM4_piControl_c192_OM4p125_v8_global_0101to0375_moc_rho2_online_hires.nc').sel(time=slice('0101-07-02','0350-07-02'))\n",
    "moc_p125_hist = xr.open_dataset('/work/jet/data/interim/CM4_historical_c192_OM4p125_global_1850to2014_moc_rho2_online_hires.nc')\n",
    "moc_p125_ssp585 = xr.open_dataset('/work/jet/data/interim/CM4_ssp585_c192_OM4p125_global_2015to2099_moc_rho2_online_hires.nc')"
   ]
  },
  {
   "cell_type": "markdown",
   "id": "72bb04ab-24d4-4903-aaab-66d72ea29cdd",
   "metadata": {},
   "source": [
    "## Bottom cell"
   ]
  },
  {
   "cell_type": "code",
   "execution_count": null,
   "id": "0666d97b-40ed-441b-883d-80d0fa9af7ec",
   "metadata": {},
   "outputs": [],
   "source": [
    "## p25\n",
    "bottom_cell_p25_control_1 = moc_p25_1_100.psi.sel(rho2_i=slice(1036.7,None),yq=slice(None,-55)).min(dim=['rho2_i', 'yq']) # bottom cell strength\n",
    "bottom_cell_p25_control_2 = moc_p25_101_350.psi.sel(rho2_i=slice(1036.7,None),yq=slice(None,-55)).min(dim=['rho2_i', 'yq']) # bottom cell strength\n",
    "bottom_cell_p25_hist = moc_p25_hist.psi.sel(rho2_i=slice(1036.7,None),yq=slice(None,-55)).min(dim=['rho2_i', 'yq']) # bottom cell strength\n",
    "bottom_cell_p25_ssp585 = moc_p25_ssp585.psi.sel(rho2_i=slice(1036.7,None),yq=slice(None,-55)).min(dim=['rho2_i', 'yq']) # bottom cell strength\n",
    "\n",
    "## p125\n",
    "bottom_cell_p125_control_1 = moc_p125_control_1.psi.sel(rho2_i=slice(1036.7,None),yq=slice(None,-55)).min(dim=['rho2_i', 'yq']) # bottom cell strength\n",
    "bottom_cell_p125_control_2 = moc_p125_control_2.psi.sel(rho2_i=slice(1036.7,None),yq=slice(None,-55)).min(dim=['rho2_i', 'yq']) # bottom cell strength\n",
    "bottom_cell_p125_hist = moc_p125_hist.psi.sel(rho2_i=slice(1036.7,None),yq=slice(None,-55)).min(dim=['rho2_i', 'yq']) # bottom cell strength\n",
    "bottom_cell_p125_ssp585 = moc_p125_ssp585.psi.sel(rho2_i=slice(1036.7,None),yq=slice(None,-55)).min(dim=['rho2_i', 'yq']) # bottom cell strength"
   ]
  },
  {
   "cell_type": "markdown",
   "id": "c6e6c70b-fe16-4f73-adf2-3a2bbab48292",
   "metadata": {},
   "source": [
    "## AABW 30S"
   ]
  },
  {
   "cell_type": "code",
   "execution_count": null,
   "id": "9e881763-1740-4bbd-8069-11725bf9e055",
   "metadata": {},
   "outputs": [],
   "source": [
    "## p25\n",
    "aabw_30S_p25_control_1 = moc_p25_1_100.psi.sel(yq=[-30],method='nearest').sel(rho2_i=slice(1036.85,None)).min(dim='rho2_i')\n",
    "aabw_30S_p25_control_2 = moc_p25_101_350.psi.sel(yq=[-30],method='nearest').sel(rho2_i=slice(1036.85,None)).min(dim='rho2_i')\n",
    "aabw_30S_p25_hist = moc_p25_hist.psi.sel(yq=[-30],method='nearest').sel(rho2_i=slice(1036.85,None)).min(dim='rho2_i')\n",
    "aabw_30S_p25_ssp585 = moc_p25_ssp585.psi.sel(yq=[-30],method='nearest').sel(rho2_i=slice(1036.85,None)).min(dim='rho2_i')\n",
    "\n",
    "## p125\n",
    "aabw_30S_p125_control_1 = moc_p125_control_1.psi.sel(yq=[-30],method='nearest').sel(rho2_i=slice(1036.85,None)).min(dim='rho2_i')\n",
    "aabw_30S_p125_control_2 = moc_p125_control_2.psi.sel(yq=[-30],method='nearest').sel(rho2_i=slice(1036.85,None)).min(dim='rho2_i')\n",
    "aabw_30S_p125_hist = moc_p125_hist.psi.sel(yq=[-30],method='nearest').sel(rho2_i=slice(1036.85,None)).min(dim='rho2_i')\n",
    "aabw_30S_p125_ssp585 = moc_p125_ssp585.psi.sel(yq=[-30],method='nearest').sel(rho2_i=slice(1036.85,None)).min(dim='rho2_i')"
   ]
  },
  {
   "cell_type": "markdown",
   "id": "3677c41a-c80b-49c6-9a95-a4efe5adfb04",
   "metadata": {},
   "source": [
    "## Concatenate fields for piControl"
   ]
  },
  {
   "cell_type": "code",
   "execution_count": null,
   "id": "cd068b02-cc98-4a6a-bfb2-a2fd606f6c75",
   "metadata": {},
   "outputs": [],
   "source": [
    "aabw_30S_p25_control = xr.concat([aabw_30S_p25_control_1,aabw_30S_p25_control_2],dim='time')\n",
    "aabw_30S_p125_control = xr.concat([aabw_30S_p125_control_1,aabw_30S_p125_control_2],dim='time')\n",
    "\n",
    "bottom_cell_p25_control = xr.concat([bottom_cell_p25_control_1,bottom_cell_p25_control_2],dim='time')\n",
    "bottom_cell_p125_control = xr.concat([bottom_cell_p125_control_1,bottom_cell_p125_control_2],dim='time')\n",
    "\n",
    "salt_p25_control = xr.concat([salt_shelf_p25_control_1,salt_shelf_p25_control_2],dim='time')\n",
    "salt_p125_control = xr.concat([salt_shelf_p125_control_1,salt_shelf_p125_control_2],dim='time')"
   ]
  },
  {
   "cell_type": "markdown",
   "id": "4011f6f3-09da-49f7-ad19-63deff6cfac0",
   "metadata": {},
   "source": [
    "### Set time axis labels for plotting from year 1750 to 2100"
   ]
  },
  {
   "cell_type": "code",
   "execution_count": null,
   "id": "080970d0-dce1-4a32-a6b2-4a30916bd6bf",
   "metadata": {},
   "outputs": [],
   "source": [
    "## control fields\n",
    "#time_axis_1750_2650 = list(range(1750,2650)) \n",
    "#time_axis_1750_2100 = list(range(1750,2100))\n",
    "#time_axis_1750_2110 = list(range(1750,2110))\n",
    "\n",
    "## historical\n",
    "#time_axis_1850_2014 = list(range(1850,2015))\n",
    "#time_axis_1850_2010 = list(range(1850,2010))\n",
    "#time_axis_2010_2100 = list(range(2010,2100))\n",
    "#time_axis_2015_2100 = list(range(2015,2100))"
   ]
  },
  {
   "cell_type": "code",
   "execution_count": null,
   "id": "fd86eb80-d213-406c-ad86-6647988e8f55",
   "metadata": {},
   "outputs": [],
   "source": [
    "## for piControl -- both\n",
    "time_axis_1750_2100 = pd.date_range(\"1750\",\"2100\",freq='Y')\n",
    "## for odiv-231 ... historical p25\n",
    "time_axis_1850_2010 = pd.date_range(\"1850\",\"2010\",freq='Y')\n",
    "\n",
    "## for odiv-233 -- historical 1\n",
    "time_axis_1850_1939 = pd.date_range(\"1850\",\"1940\",freq='Y')\n",
    "## for odiv-255 -- historical 2\n",
    "time_axis_1850_2015 = pd.date_range(\"1850\",\"2015\",freq='Y')\n",
    "## for odiv-231, SSP5-85\n",
    "time_axis_2010_2100 = pd.date_range(\"2010\",\"2100\",freq='Y')\n",
    "## for odiv-293, p125 SSP5-85\n",
    "time_axis_2015_2100 = pd.date_range(\"2015\",\"2100\",freq='Y')\n",
    "## for combined hist + ssp585\n",
    "time_axis_1850_2099 = pd.date_range(\"1850\",\"2099\",freq='Y')"
   ]
  },
  {
   "cell_type": "code",
   "execution_count": null,
   "id": "28674d1a-6836-4f77-be23-53e9cf48a476",
   "metadata": {},
   "outputs": [],
   "source": [
    "## p25\n",
    "salt_shelf_p25_cntrl_time = salt_p25_control.drop(labels='time').assign_coords(coords={\"time\":time_axis_1750_2100})\n",
    "salt_shelf_p25_cntrl_time = salt_shelf_p25_cntrl_time.time.dt.year.drop(labels='time')\n",
    "\n",
    "salt_shelf_p25_hist_time = salt_shelf_p25_hist.drop(labels='time').assign_coords(coords={\"time\":time_axis_1850_2010})\n",
    "salt_shelf_p25_hist_time = salt_shelf_p25_hist_time.time.dt.year.drop(labels='time')\n",
    "\n",
    "salt_shelf_p25_ssp585_time = salt_shelf_p25_ssp585.drop(labels='time').assign_coords(coords={\"time\":time_axis_2010_2100})\n",
    "salt_shelf_p25_ssp585_time = salt_shelf_p25_ssp585_time.time.dt.year.drop(labels='time')"
   ]
  },
  {
   "cell_type": "code",
   "execution_count": null,
   "id": "142f545f-9b1b-4416-b49f-7d327487bbe0",
   "metadata": {},
   "outputs": [],
   "source": [
    "## p125\n",
    "salt_shelf_p125_cntrl_time = salt_p125_control.drop(labels='time').assign_coords(coords={\"time\":time_axis_1750_2100})\n",
    "salt_shelf_p125_cntrl_time = salt_shelf_p125_cntrl_time.time.dt.year.drop(labels='time')\n",
    "\n",
    "salt_shelf_p125_hist_time = salt_shelf_p125_hist.drop(labels='time').assign_coords(coords={\"time\":time_axis_1850_2015})\n",
    "salt_shelf_p125_hist_time = salt_shelf_p125_hist_time.time.dt.year.drop(labels='time')\n",
    "\n",
    "salt_shelf_p125_ssp585_time = salt_shelf_p125_ssp585.drop(labels='time').assign_coords(coords={\"time\":time_axis_2015_2100})\n",
    "salt_shelf_p125_ssp585_time = salt_shelf_p125_ssp585_time.time.dt.year.drop(labels='time')"
   ]
  },
  {
   "cell_type": "code",
   "execution_count": null,
   "id": "cec378f3-30e8-4a79-948d-f9280d5c72dd",
   "metadata": {},
   "outputs": [],
   "source": [
    "## p25\n",
    "bottom_cell_p25_cntrl_time = bottom_cell_p25_control.drop(labels='time').assign_coords(coords={\"time\":time_axis_1750_2100})\n",
    "bottom_cell_p25_cntrl_time = bottom_cell_p25_cntrl_time.time.dt.year.drop(labels='time')\n",
    "\n",
    "bottom_cell_p25_hist_time = bottom_cell_p25_hist.drop(labels='time').assign_coords(coords={\"time\":time_axis_1850_2010})\n",
    "bottom_cell_p25_hist_time = bottom_cell_p25_hist_time.time.dt.year.drop(labels='time')\n",
    "\n",
    "bottom_cell_p25_ssp585_time = bottom_cell_p25_ssp585.drop(labels='time').assign_coords(coords={\"time\":time_axis_2010_2100})\n",
    "bottom_cell_p25_ssp585_time = bottom_cell_p25_ssp585_time.time.dt.year.drop(labels='time')"
   ]
  },
  {
   "cell_type": "code",
   "execution_count": null,
   "id": "7820c1f4-1c07-44e9-a635-025d8c4c30b8",
   "metadata": {},
   "outputs": [],
   "source": [
    "## p25\n",
    "aabw_30S_p25_cntrl_time = aabw_30S_p25_control.drop(labels='time').assign_coords(coords={\"time\":time_axis_1750_2100})\n",
    "aabw_30S_p25_cntrl_time = aabw_30S_p25_cntrl_time.time.dt.year.drop(labels='time')\n",
    "\n",
    "aabw_30S_p25_hist_time = aabw_30S_p25_hist.drop(labels='time').assign_coords(coords={\"time\":time_axis_1850_2010})\n",
    "aabw_30S_p25_hist_time = aabw_30S_p25_hist_time.time.dt.year.drop(labels='time')\n",
    "\n",
    "aabw_30S_p25_ssp585_time = aabw_30S_p25_ssp585.drop(labels='time').assign_coords(coords={\"time\":time_axis_2010_2100})\n",
    "aabw_30S_p25_ssp585_time = aabw_30S_p25_ssp585_time.time.dt.year.drop(labels='time')"
   ]
  },
  {
   "cell_type": "code",
   "execution_count": null,
   "id": "a4736d9a-1a86-4f9d-a17d-38b1325d469e",
   "metadata": {},
   "outputs": [],
   "source": [
    "## p125"
   ]
  },
  {
   "cell_type": "code",
   "execution_count": null,
   "id": "85195a29-77d3-4289-b995-ef286b8d8023",
   "metadata": {},
   "outputs": [],
   "source": [
    "## p125 configurations\n",
    "bottom_cell_p125_control_time = bottom_cell_p125_control.drop(labels='time').assign_coords(coords={\"time\":time_axis_1750_2100})\n",
    "bottom_cell_p125_control_time = bottom_cell_p125_control_time.time.dt.year.drop(labels='time')\n",
    "\n",
    "bottom_cell_p125_hist_time = bottom_cell_p125_hist.drop(labels='time').assign_coords(coords={\"time\":time_axis_1850_2015})\n",
    "bottom_cell_p125_hist_time = bottom_cell_p125_hist_time.time.dt.year.drop(labels='time')\n",
    "\n",
    "bottom_cell_p125_ssp585_time = bottom_cell_p125_ssp585.drop(labels='time').assign_coords(coords={\"time\":time_axis_2015_2100})\n",
    "bottom_cell_p125_ssp585_time = bottom_cell_p125_ssp585_time.time.dt.year.drop(labels='time')"
   ]
  },
  {
   "cell_type": "code",
   "execution_count": null,
   "id": "2e514689-b88b-428b-a1b5-3b61e5c74def",
   "metadata": {
    "tags": []
   },
   "outputs": [],
   "source": [
    "## p125 configurations\n",
    "aabw_30S_p125_control_time = aabw_30S_p125_control.drop(labels='time').assign_coords(coords={\"time\":time_axis_1750_2100})\n",
    "aabw_30S_p125_control_time = aabw_30S_p125_control_time.time.dt.year.drop(labels='time')\n",
    "\n",
    "aabw_30S_p125_hist_time = aabw_30S_p125_hist.drop(labels='time').assign_coords(coords={\"time\":time_axis_1850_2015})\n",
    "aabw_30S_p125_hist_time = aabw_30S_p125_hist_time.time.dt.year.drop(labels='time')\n",
    "\n",
    "aabw_30S_p125_ssp585_time = aabw_30S_p125_ssp585.drop(labels='time').assign_coords(coords={\"time\":time_axis_2015_2100})\n",
    "aabw_30S_p125_ssp585_time = aabw_30S_p125_ssp585_time.time.dt.year.drop(labels='time')"
   ]
  },
  {
   "cell_type": "code",
   "execution_count": null,
   "id": "a2c68500-4099-4aa9-84ec-39a0d0314ca2",
   "metadata": {},
   "outputs": [],
   "source": [
    "%%time\n",
    "fig, ax = plt.subplots(figsize=(15,8))\n",
    "\n",
    "plt.plot(salt_shelf_p125_cntrl_time,salt_p125_control,color='blue',linewidth=3, label = 'CM4X-p125 piControl')\n",
    "plt.plot(salt_shelf_p125_hist_time,salt_shelf_p125_hist,color='red',linewidth=3)\n",
    "plt.plot(salt_shelf_p125_ssp585_time,salt_shelf_p125_ssp585,color='red',linewidth=3, label = 'CM4X-p125 hist + SSP5-8.5')\n",
    "\n",
    "\n",
    "\n",
    "### p25\n",
    "plt.plot(salt_shelf_p25_cntrl_time,salt_p25_control,color='limegreen',linewidth=3, label = 'CM4X-p25 piControl')\n",
    "plt.plot(salt_shelf_p25_hist_time,salt_shelf_p25_hist,color='k',linewidth=3, label = 'CM4X-p25 hist + SSP5-8.5')\n",
    "plt.plot(salt_shelf_p25_ssp585_time,salt_shelf_p25_ssp585,color='k',linewidth=3)\n",
    "\n",
    "\n",
    "plt.xlim(1750,2100)\n",
    "plt.grid(linewidth=1.5, linestyle='--')\n",
    "\n",
    "## add horizontal line for Schmidtko value\n",
    "\n",
    "plt.axhline(34.76,linewidth=4, color='orange',linestyle='--',label='1975-2012 mean obs. Schmidtko et al., 2014')\n",
    "\n",
    "## add details including horizontal spanned shading for historical period\n",
    "## and labels / fontsizes etc.\n",
    "plt.xlim(1750,2100)\n",
    "plt.grid(linewidth=1.5, linestyle='-')\n",
    "y1_hist = 1850\n",
    "y2_hist = 2014\n",
    "plt.axvspan(y1_hist, y2_hist, color='grey', alpha=0.15, lw=0)\n",
    "plt.xlim(1750,2100)\n",
    "plt.grid(linewidth=1.5, linestyle='-')\n",
    "plt.xticks(ticks=[1750, 1800, 1850, 1900, 1950, 2014, 2050, 2100])\n",
    "ax.set_ylabel('Salinity [g kg $^-$$^1$]',fontsize=18)\n",
    "ax.set_title('Spatial averaged shelf bottom salinity', fontsize=18)\n",
    "plt.yticks(fontsize=18)\n",
    "plt.xticks(fontsize=18)\n",
    "plt.legend(fontsize=14)\n",
    "\n",
    "plt.savefig('Shelf_Bottom_Salinity_final_Odiv313.pdf')"
   ]
  },
  {
   "cell_type": "code",
   "execution_count": null,
   "id": "c972bc3a-7b8e-4f21-9019-03eeebec6639",
   "metadata": {},
   "outputs": [],
   "source": [
    "## To avoid discontinuities in the rolling mean --- need to combine hist & ssp time series first:\n",
    "p125_bottom_cell_combined_time = xr.concat([bottom_cell_p125_hist_time,bottom_cell_p125_ssp585_time],dim='time')\n",
    "p125_bottom_cell_combined = xr.concat([bottom_cell_p125_hist,bottom_cell_p125_ssp585],dim='time')\n",
    "\n",
    "p25_bottom_cell_combined_time = xr.concat([bottom_cell_p25_hist_time,bottom_cell_p25_ssp585_time],dim='time')\n",
    "p25_bottom_cell_combined = xr.concat([bottom_cell_p25_hist,bottom_cell_p25_ssp585],dim='time')\n",
    "\n",
    "##\n",
    "p125_aabw_30S_combined_time = xr.concat([aabw_30S_p125_hist_time,aabw_30S_p125_ssp585_time],dim='time')\n",
    "p125_aabw_30S_combined = xr.concat([aabw_30S_p125_hist,aabw_30S_p125_ssp585],dim='time')\n",
    "\n",
    "p25_aabw_30S_combined_time = xr.concat([aabw_30S_p25_hist_time,aabw_30S_p25_ssp585_time],dim='time')\n",
    "p25_aabw_30S_combined = xr.concat([aabw_30S_p25_hist,aabw_30S_p25_ssp585],dim='time')"
   ]
  },
  {
   "cell_type": "code",
   "execution_count": null,
   "id": "d522721a-f60d-4319-9e9b-15026a66cadb",
   "metadata": {},
   "outputs": [],
   "source": [
    "%%time\n",
    "fig, ax = plt.subplots(figsize=(15,8))\n",
    "\n",
    "plt.plot(bottom_cell_p125_control_time,bottom_cell_p125_control*-1,color='blue',linewidth=0.75, alpha=0.5)\n",
    "plt.plot(bottom_cell_p125_hist_time,bottom_cell_p125_hist*-1,color='red',linewidth=0.75, alpha=0.5,)\n",
    "plt.plot(bottom_cell_p125_ssp585_time,bottom_cell_p125_ssp585*-1,color='red',linewidth=0.75, alpha=0.5)\n",
    "\n",
    "plt.plot(bottom_cell_p125_control_time,(bottom_cell_p125_control*-1).rolling(time=5,center=True).mean(),color='blue',linewidth=3, label = 'CM4X-p125 piControl')\n",
    "plt.plot(p125_bottom_cell_combined_time,(p125_bottom_cell_combined*-1).rolling(time=5,center=True).mean(),color='red',linewidth=3, label = 'CM4X-p125 hist + SSP5-8.5')\n",
    "\n",
    "\n",
    "\n",
    "### p25\n",
    "plt.plot(bottom_cell_p25_cntrl_time,bottom_cell_p25_control*-1,color='limegreen',linewidth=0.75, alpha=0.5)\n",
    "plt.plot(bottom_cell_p25_hist_time,bottom_cell_p25_hist*-1,color='k',linewidth=0.75, alpha=0.5)\n",
    "plt.plot(bottom_cell_p25_ssp585_time,bottom_cell_p25_ssp585*-1,color='k',linewidth=0.75, alpha=0.5)\n",
    "\n",
    "plt.plot(bottom_cell_p25_cntrl_time,(bottom_cell_p25_control*-1).rolling(time=5,center=True).mean(),color='limegreen',linewidth=3, label = 'CM4X-p25 piControl')\n",
    "plt.plot(p25_bottom_cell_combined_time,(p25_bottom_cell_combined*-1).rolling(time=5,center=True).mean(),color='k',linewidth=3, label = 'CM4X-p25 hist + SSP5-8.5')\n",
    "\n",
    "\n",
    "plt.xlim(1750,2100)\n",
    "plt.grid(linewidth=1.5, linestyle='-')\n",
    "\n",
    "## add details including horizontal spanned shading for historical period\n",
    "## and labels / fontsizes etc.\n",
    "plt.xlim(1750,2100)\n",
    "plt.grid(linewidth=1.5, linestyle='-')\n",
    "y1_hist = 1850\n",
    "y2_hist = 2014\n",
    "plt.axvspan(y1_hist, y2_hist, color='grey', alpha=0.15, lw=0)\n",
    "plt.xlim(1750,2100)\n",
    "plt.grid(linewidth=1.5, linestyle='-')\n",
    "plt.xticks(ticks=[1750, 1800, 1850, 1900, 1950, 2014, 2050, 2100])\n",
    "ax.set_ylabel('Sv [10$^9$ kg s$^-$$^1$]',fontsize=18)\n",
    "ax.set_title('Bottom cell strength', fontsize=18)\n",
    "plt.yticks(fontsize=18)\n",
    "plt.xticks(fontsize=18)\n",
    "plt.legend(fontsize=14)\n",
    "\n",
    "plt.savefig('Bottom_Cell_strength_final_Odiv313.pdf')"
   ]
  },
  {
   "cell_type": "code",
   "execution_count": null,
   "id": "ea0844ed-6f38-4a0b-9309-3f79181061dd",
   "metadata": {},
   "outputs": [],
   "source": [
    "%%time\n",
    "fig, ax = plt.subplots(figsize=(15,8))\n",
    "\n",
    "plt.plot(aabw_30S_p125_control_time,aabw_30S_p125_control*-1,color='blue',linewidth=0.75, alpha=0.5)\n",
    "plt.plot(aabw_30S_p125_hist_time,aabw_30S_p125_hist*-1,color='red',linewidth=0.75, alpha=0.5,)\n",
    "plt.plot(aabw_30S_p125_ssp585_time,aabw_30S_p125_ssp585*-1,color='red',linewidth=0.75, alpha=0.5)\n",
    "\n",
    "plt.plot(aabw_30S_p125_control_time,(aabw_30S_p125_control*-1).rolling(time=5,center=True).mean(),color='blue',linewidth=3, label = 'CM4X-p125 piControl')\n",
    "plt.plot(p125_aabw_30S_combined_time,(p125_aabw_30S_combined*-1).rolling(time=5,center=True).mean(),color='red',linewidth=3, label = 'CM4X-p125 hist + SSP5-8.5')\n",
    "\n",
    "\n",
    "### p25\n",
    "plt.plot(aabw_30S_p25_cntrl_time,aabw_30S_p25_control*-1,color='limegreen',linewidth=0.75, alpha=0.5)\n",
    "plt.plot(aabw_30S_p25_hist_time,aabw_30S_p25_hist*-1,color='k',linewidth=0.75, alpha=0.5)\n",
    "plt.plot(aabw_30S_p25_ssp585_time,aabw_30S_p25_ssp585*-1,color='k',linewidth=0.75, alpha=0.5)\n",
    "\n",
    "plt.plot(aabw_30S_p25_cntrl_time,(aabw_30S_p25_control*-1).rolling(time=5,center=True).mean(),color='limegreen',linewidth=3, label = 'CM4X-p25 piControl')\n",
    "plt.plot(p25_aabw_30S_combined_time,(p25_aabw_30S_combined*-1).rolling(time=5,center=True).mean(),color='k',linewidth=3, label = 'CM4X-p25 hist + SSP5-8.5')\n",
    "\n",
    "\n",
    "plt.xlim(1750,2100)\n",
    "plt.grid(linewidth=1.5, linestyle='--')\n",
    "\n",
    "## add details including horizontal spanned shading for historical period\n",
    "## and labels / fontsizes etc.\n",
    "plt.xlim(1750,2100)\n",
    "plt.grid(linewidth=1.5, linestyle='-')\n",
    "y1_hist = 1850\n",
    "y2_hist = 2014\n",
    "plt.axvspan(y1_hist, y2_hist, color='grey', alpha=0.15, lw=0)\n",
    "plt.xlim(1750,2100)\n",
    "plt.grid(linewidth=1.5, linestyle='-')\n",
    "plt.xticks(ticks=[1750, 1800, 1850, 1900, 1950, 2014, 2050, 2100])\n",
    "ax.set_ylabel('Sv [10$^9$ kg s$^-$$^1$]',fontsize=18)\n",
    "ax.set_title('AABW 30S', fontsize=18)\n",
    "plt.yticks(fontsize=18)\n",
    "plt.xticks(fontsize=18)\n",
    "plt.legend(fontsize=14)\n",
    "\n",
    "plt.savefig('AABW_30S_final_Odiv313.pdf')"
   ]
  },
  {
   "cell_type": "code",
   "execution_count": null,
   "id": "4813fc2e-8229-4141-be85-9fcbd82a74d9",
   "metadata": {},
   "outputs": [],
   "source": []
  },
  {
   "cell_type": "code",
   "execution_count": null,
   "id": "9de5b81f-6e5d-4d0c-bd01-317a443ec415",
   "metadata": {},
   "outputs": [],
   "source": []
  }
 ],
 "metadata": {
  "kernelspec": {
   "display_name": "Python 3 (ipykernel)",
   "language": "python",
   "name": "python3"
  },
  "language_info": {
   "codemirror_mode": {
    "name": "ipython",
    "version": 3
   },
   "file_extension": ".py",
   "mimetype": "text/x-python",
   "name": "python",
   "nbconvert_exporter": "python",
   "pygments_lexer": "ipython3",
   "version": "3.9.12"
  }
 },
 "nbformat": 4,
 "nbformat_minor": 5
}
